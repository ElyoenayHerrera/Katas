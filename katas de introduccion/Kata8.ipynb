{
 "cells": [
  {
   "cell_type": "code",
   "execution_count": 18,
   "metadata": {},
   "outputs": [
    {
     "name": "stdout",
     "output_type": "stream",
     "text": [
      "el nombre del planeta es:  Mars\n",
      "El numero de lunas que tiene el planeta son:  2\n"
     ]
    }
   ],
   "source": [
    "# Creacion de diccionario de Pyrthon \n",
    "#Ejercicio 1\n",
    "\n",
    "# Datos: \n",
    "# name: Mars\n",
    "# moons: 2\n",
    "\n",
    "# Crea un diccionario llamado planet con los datos propuestos\n",
    "planet = {\n",
    "    'name': 'Mars',\n",
    "    'moons': 2\n",
    "  \n",
    "\n",
    "}\n",
    "\n",
    "# Muestra el nombre del planeta y el número de lunas que tiene.\n",
    "print (\"el nombre del planeta es: \", planet ['name'])\n",
    "print (\"El numero de lunas que tiene el planeta son: \",planet ['moons'])\n",
    "\n"
   ]
  },
  {
   "cell_type": "code",
   "execution_count": null,
   "metadata": {},
   "outputs": [],
   "source": [
    "# Agrega la clave circunferencia con los datos proporcionados previamente\n",
    "planet['Circumference'] = {\n",
    "    'polar' : 6752\n",
    "    'equatorial' : 6792\n",
    "}\n",
    "# Imprime el nombre del planeta con su circunferencia polar.\n",
    "print (\" el nombre del pplaneta es :\" , planet[\"name\"])\n",
    "print (\"la circunfenreciua polar del planeta es: \", planet[\"Circumference\"][\"polar\"])"
   ]
  },
  {
   "cell_type": "code",
   "execution_count": 35,
   "metadata": {},
   "outputs": [
    {
     "name": "stdout",
     "output_type": "stream",
     "text": [
      "17.833333333333332\n"
     ]
    }
   ],
   "source": [
    "#Ejercicio 2\n",
    "\n",
    "# Planets and moons\n",
    "planet_moons = {\n",
    "    'mercury': 0,\n",
    "    'venus': 0,\n",
    "    'earth': 1,\n",
    "    'mars': 2,\n",
    "    'jupiter': 79,\n",
    "    'saturn': 82,\n",
    "    'uranus': 27,\n",
    "    'neptune': 14,\n",
    "    'pluto': 5,\n",
    "    'haumea': 2,\n",
    "    'makemake': 1,\n",
    "    'eris': 1\n",
    "}\n",
    "\n",
    "moons = planet_moons.values()\n",
    "# Añade el código para determinar el número de lunas.\n",
    "planet = len(planet_moons.keys())\n",
    "\n",
    "# Agrega el código para contar el número de lunas. \n",
    "\n",
    "total_moons = 0\n",
    "\n",
    "for moon in moons:\n",
    "    total_moons = total_moons + moon\n",
    " #Sacar el promedio\n",
    "Promedio = total_moons / planet\n",
    "print (Promedio)\n"
   ]
  }
 ],
 "metadata": {
  "interpreter": {
   "hash": "72b4979d9eb90e41830974923bed12356e0b593b08e63792c81524fc10628530"
  },
  "kernelspec": {
   "display_name": "Python 3.10.2 64-bit",
   "language": "python",
   "name": "python3"
  },
  "language_info": {
   "codemirror_mode": {
    "name": "ipython",
    "version": 3
   },
   "file_extension": ".py",
   "mimetype": "text/x-python",
   "name": "python",
   "nbconvert_exporter": "python",
   "pygments_lexer": "ipython3",
   "version": "3.10.2"
  },
  "orig_nbformat": 4
 },
 "nbformat": 4,
 "nbformat_minor": 2
}
