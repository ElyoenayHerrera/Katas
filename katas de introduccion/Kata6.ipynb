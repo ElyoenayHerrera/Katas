{
 "cells": [
  {
   "cell_type": "code",
   "execution_count": 1,
   "metadata": {},
   "outputs": [
    {
     "name": "stdout",
     "output_type": "stream",
     "text": [
      "El planeta uno es :  Mercurio\n",
      "El planeta dos es :  Venus\n",
      "El planeta tres es :  Tierra\n",
      "El planeta cuatro es :  Marte\n",
      "El planeta cinco es :  Jupiter\n",
      "El planeta seis es :  Saturno\n",
      "El planeta siete es :  Urano\n",
      "El planeta ocho es :  Neptuno\n"
     ]
    }
   ],
   "source": [
    "#Ejercicio 1\n",
    "#Lista de los planetas del sistema solar\n",
    "\n",
    "planetas = ['Mercurio', 'Venus', 'Tierra', 'Marte', 'Jupiter', 'Saturno', 'Urano', 'Neptuno']\n",
    "\n",
    "print (\"El planeta uno es : \" , planetas[0])\n",
    "print (\"El planeta dos es : \" , planetas[1])\n",
    "print (\"El planeta tres es : \" , planetas[2])\n",
    "print (\"El planeta cuatro es : \" , planetas[3])\n",
    "print (\"El planeta cinco es : \" , planetas[4])\n",
    "print (\"El planeta seis es : \" , planetas[5])\n",
    "print (\"El planeta siete es : \" , planetas[6])\n",
    "print (\"El planeta ocho es : \" , planetas[7])\n",
    "\n"
   ]
  },
  {
   "cell_type": "code",
   "execution_count": 2,
   "metadata": {},
   "outputs": [
    {
     "name": "stdout",
     "output_type": "stream",
     "text": [
      "Pluton Es el planeta nueve\n"
     ]
    }
   ],
   "source": [
    "#Agregar a Pluton y que se muestre \n",
    "\n",
    "planetas.append(\"Pluton\")\n",
    "\n",
    "print (planetas[-1], \"Es el planeta nueve\")\n"
   ]
  },
  {
   "cell_type": "code",
   "execution_count": 3,
   "metadata": {},
   "outputs": [
    {
     "ename": "ValueError",
     "evalue": "'S' is not in list",
     "output_type": "error",
     "traceback": [
      "\u001b[1;31m---------------------------------------------------------------------------\u001b[0m",
      "\u001b[1;31mValueError\u001b[0m                                Traceback (most recent call last)",
      "\u001b[1;32mf:\\katas de introduccion\\Kata6.ipynb Cell 3'\u001b[0m in \u001b[0;36m<module>\u001b[1;34m\u001b[0m\n\u001b[0;32m      <a href='vscode-notebook-cell:/f%3A/katas%20de%20introduccion/Kata6.ipynb#ch0000002?line=5'>6</a>\u001b[0m Busqueda\u001b[39m=\u001b[39m \u001b[39minput\u001b[39m (\u001b[39m\"\u001b[39m\u001b[39mintrodusca la lentar del planeta que desa buscar en Mayusculas \u001b[39m\u001b[39m\"\u001b[39m)\n\u001b[0;32m      <a href='vscode-notebook-cell:/f%3A/katas%20de%20introduccion/Kata6.ipynb#ch0000002?line=7'>8</a>\u001b[0m \u001b[39m#Busqueda del planeta en la lista \u001b[39;00m\n\u001b[1;32m----> <a href='vscode-notebook-cell:/f%3A/katas%20de%20introduccion/Kata6.ipynb#ch0000002?line=8'>9</a>\u001b[0m Busquedaplanet \u001b[39m=\u001b[39m planets\u001b[39m.\u001b[39;49mindex(Busqueda)\n\u001b[0;32m     <a href='vscode-notebook-cell:/f%3A/katas%20de%20introduccion/Kata6.ipynb#ch0000002?line=10'>11</a>\u001b[0m \u001b[39m#Mostrar el planeta mas cercano al sol \u001b[39;00m\n\u001b[0;32m     <a href='vscode-notebook-cell:/f%3A/katas%20de%20introduccion/Kata6.ipynb#ch0000002?line=11'>12</a>\u001b[0m \u001b[39mprint\u001b[39m (\u001b[39m\"\u001b[39m\u001b[39mEl planeta mas cercano al sol es: \u001b[39m\u001b[39m\"\u001b[39m \u001b[39m+\u001b[39m Busquedaplanet)\n",
      "\u001b[1;31mValueError\u001b[0m: 'S' is not in list"
     ]
    }
   ],
   "source": [
    "#Ejercicio 2\n",
    "#lista de planetas\n",
    "planets = [\"Mercurio\", \"Venus\", \"Tierra\", \"Marte\", \"Jupiter\", \"Saturno\", \"Neptuno\"]\n",
    "\n",
    "#Busqueda de planetas\n",
    "Busqueda= input (\"introdusca la lentar del planeta que desa buscar en Mayusculas \")\n",
    "\n",
    "#Busqueda del planeta en la lista \n",
    "Busquedaplanet = planets.index(Busqueda)\n",
    "\n",
    "#Mostrar el planeta mas cercano al sol \n",
    "print (\"El planeta mas cercano al sol es: \" + Busquedaplanet)\n",
    "print(planets[0:Busquedaplanet])\n",
    "\n",
    "\n",
    "#Mostrar el planeta mas lejano al sol\n",
    "print (\"El planeta mas lejano al sol es: \" + Busquedaplanet)\n",
    "print(planets[Busquedaplanet + 1:])"
   ]
  }
 ],
 "metadata": {
  "interpreter": {
   "hash": "0a9f035985338bb4e896ed2ba7d25e23cb2847c8b107a7ccf07f6572f4e9fea7"
  },
  "kernelspec": {
   "display_name": "Python 3.10.2 64-bit",
   "language": "python",
   "name": "python3"
  },
  "language_info": {
   "codemirror_mode": {
    "name": "ipython",
    "version": 3
   },
   "file_extension": ".py",
   "mimetype": "text/x-python",
   "name": "python",
   "nbconvert_exporter": "python",
   "pygments_lexer": "ipython3",
   "version": "3.10.2"
  },
  "orig_nbformat": 4
 },
 "nbformat": 4,
 "nbformat_minor": 2
}
