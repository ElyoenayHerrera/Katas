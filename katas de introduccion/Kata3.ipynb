{
 "cells": [
  {
   "cell_type": "code",
   "execution_count": 16,
   "metadata": {},
   "outputs": [
    {
     "name": "stdout",
     "output_type": "stream",
     "text": [
      "advertencia se hacerca un asteroide\n"
     ]
    }
   ],
   "source": [
    "#Ejercicio 1\n",
    "#asteroide \n",
    "\n",
    "asteroide = 49\n",
    "\n",
    "if asteroide > 25:\n",
    "    print (\"advertencia se hacerca un asteroide\")\n",
    "else:\n",
    "    print (\" Tranquilos no pasa nada\")\n",
    "    "
   ]
  },
  {
   "cell_type": "code",
   "execution_count": 14,
   "metadata": {},
   "outputs": [
    {
     "name": "stdout",
     "output_type": "stream",
     "text": [
      "Continua con tu día\n"
     ]
    }
   ],
   "source": [
    "#Ejercicio 2\n",
    "\n",
    "asteroide2 = 19\n",
    "\n",
    "if asteroide2 > 20 :\n",
    "    print (\"Buscar en el cielo un rayo de luz\")\n",
    "elif asteroide2 == 20:\n",
    "    print (\"Buscar en el cielo un rayo de luz\")\n",
    "else:\n",
    "    print (\"Continua con tu día\")"
   ]
  },
  {
   "cell_type": "code",
   "execution_count": 46,
   "metadata": {},
   "outputs": [
    {
     "name": "stdout",
     "output_type": "stream",
     "text": [
      "Todo esta en orden, continua con tu día\n"
     ]
    }
   ],
   "source": [
    "#Ejercicio 3\n",
    "#Dimesiones del asteroide \n",
    "\n",
    "VelocidadAsteroide = 19  # Se puede modificar para saber si es peligro o no\n",
    "DimesionAsteroide = 25   # Se puede modificar para saber si es peligro o no\n",
    "\n",
    "if DimesionAsteroide < 25 and DimesionAsteroide == 25:\n",
    "    print (\"No hay problema, continua con tu día\") \n",
    "elif VelocidadAsteroide > 25:\n",
    "    print (\"Peligro, impacto de asteroide prodria causar mucho daño a gran escala\")\n",
    "elif DimesionAsteroide > 25 and DimesionAsteroide < 1000:\n",
    "    print (\" Peligro, impacto de asteroide podria causar daño a gran escala\")\n",
    "elif VelocidadAsteroide > 20 or VelocidadAsteroide == 20:\n",
    "    print (\"Buscar en el cielo un rayo de luz producido por un asteroide\")\n",
    "else:\n",
    "    print (\"Todo esta en orden, continua con tu día\")"
   ]
  }
 ],
 "metadata": {
  "interpreter": {
   "hash": "0a9f035985338bb4e896ed2ba7d25e23cb2847c8b107a7ccf07f6572f4e9fea7"
  },
  "kernelspec": {
   "display_name": "Python 3.10.2 64-bit",
   "language": "python",
   "name": "python3"
  },
  "language_info": {
   "codemirror_mode": {
    "name": "ipython",
    "version": 3
   },
   "file_extension": ".py",
   "mimetype": "text/x-python",
   "name": "python",
   "nbconvert_exporter": "python",
   "pygments_lexer": "ipython3",
   "version": "3.10.2"
  },
  "orig_nbformat": 4
 },
 "nbformat": 4,
 "nbformat_minor": 2
}
