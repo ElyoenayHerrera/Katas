{
 "cells": [
  {
   "cell_type": "code",
   "execution_count": 30,
   "metadata": {},
   "outputs": [
    {
     "name": "stdout",
     "output_type": "stream",
     "text": [
      "Los datos son:\n",
      "    Promedio total : {promedio}%\n",
      "    tanque 1 : {tanque1}%\n",
      "    tanque 2 : {tanque2}%\n",
      "    tanque 3 : {tanque3}%\n",
      "    \n",
      "Los nuevos datos son:\n",
      "    Total de tanque: 78.0%\n",
      "    El tanque uno tiene : 88%\n",
      "    El tanque dos tiene : 76%\n",
      "    El tanque tres tiene : 70% \n",
      "    \n"
     ]
    }
   ],
   "source": [
    "#Ejercicio 1\n",
    "\n",
    "# Función para leer 3 tanques de combustible y muestre el promedio\n",
    "def tanques(tanque1, tanque2, tanque3):\n",
    "    promedio = (tanque1 + tanque2 + tanque3 )/3\n",
    "\n",
    "    return '''Los datos son:\n",
    "    Promedio total : {promedio}%\n",
    "    tanque 1 : {tanque1}%\n",
    "    tanque 2 : {tanque2}%\n",
    "    tanque 3 : {tanque3}%\n",
    "    '''\n",
    "\n",
    "# Llamamos a la función que genera el reporte print(funcion(tanque1, tanque2, tanque3))\n",
    "print(tanques (80, 70, 85))\n",
    "\n",
    "# Función promedio \n",
    "def average(values):\n",
    "    total = sum(values)\n",
    "    numeros = len(values)\n",
    "    return total / numeros\n",
    "average([80, 85, 81])\n",
    "\n",
    "# Actualiza la función\n",
    "def generate_report(tanque1, tanque2, tanque3):\n",
    "    return f\"\"\"Los nuevos datos son:\n",
    "    Total de tanque: {average([tanque1, tanque2, tanque3])}%\n",
    "    El tanque uno tiene : {tanque1}%\n",
    "    El tanque dos tiene : {tanque2}%\n",
    "    El tanque tres tiene : {tanque3}% \n",
    "    \"\"\"\n",
    "\n",
    "# Call the updated function again with different values\n",
    "print(generate_report(88, 76, 70))"
   ]
  },
  {
   "cell_type": "code",
   "execution_count": 39,
   "metadata": {},
   "outputs": [
    {
     "name": "stdout",
     "output_type": "stream",
     "text": [
      "Los datos son:\n",
      "    El tiempo taltal de la nave fue de  : {tiempo_total} minutos\n",
      "    El combustible consumido total es de : {combustible_total} galones\n",
      "   \n",
      "    \n",
      "\n",
      "    Mission to marte\n",
      "    Total del tiepo de la nave: 76 minutes\n",
      "    Total de combustible de la nave: 500000\n",
      "    \n",
      "\n",
      "    Mission to marte\n",
      "    Total del tiempo de la nave: 74 minutes\n",
      "    Total de combustible de la nave: 500000\n",
      "    main tank --> 300000 gallons left\n",
      "external tank --> 200000 gallons left\n",
      "\n"
     ]
    }
   ],
   "source": [
    "#Ejercicio 2\n",
    "\n",
    "# Función con un informe preciso de la misión. Considera hora de prelanzamiento, tiempo de vuelo, destino, tanque externo y tanque interno\n",
    "def Informe_cohete( hora_prelanzamiento,tiempo_destino, destino, tanque_ext, tanque_int ):\n",
    "    tiempo_total = tiempo_destino + hora_prelanzamiento\n",
    "    combustible_total = tanque_ext + tanque_int\n",
    "\n",
    "    return '''Los datos son:\n",
    "    El tiempo taltal de la nave fue de  : {tiempo_total} minutos\n",
    "    El combustible consumido total es de : {combustible_total} galones\n",
    "   \n",
    "    '''\n",
    "print (Informe_cohete(10,15,'marte',200000,300000))\n",
    "\n",
    "# Escribe tu nueva función de reporte considerando lo anterior\n",
    "\n",
    "def reporte(destino, *minutos, **combustible):\n",
    "    return f\"\"\"\n",
    "    Mission to {destino}\n",
    "    Total del tiepo de la nave: {sum(minutos)} minutes\n",
    "    Total de combustible de la nave: {sum(combustible.values())}\n",
    "    \"\"\"\n",
    "\n",
    "print(reporte(\"marte\", 10, 15, 51, main=300000, external=200000))\n",
    "\n",
    "# Escribe tu nueva función\n",
    "\n",
    "def reporte_mision(destino, *minutos, **combustible_reserba):\n",
    "    reporte_nave = f\"\"\"\n",
    "    Mission to {destino}\n",
    "    Total del tiempo de la nave: {sum(minutos)} minutes\n",
    "    Total de combustible de la nave: {sum(combustible_reserba.values())}\n",
    "    \"\"\"\n",
    "    for tank_name, gallons in combustible_reserba.items():\n",
    "        reporte_nave += f\"{tank_name} tank --> {gallons} gallons left\\n\"\n",
    "    return reporte_nave\n",
    "\n",
    "print(reporte_mision(\"marte\", 8, 11, 55, main=300000, external=200000))"
   ]
  }
 ],
 "metadata": {
  "interpreter": {
   "hash": "72b4979d9eb90e41830974923bed12356e0b593b08e63792c81524fc10628530"
  },
  "kernelspec": {
   "display_name": "Python 3.10.2 64-bit",
   "language": "python",
   "name": "python3"
  },
  "language_info": {
   "codemirror_mode": {
    "name": "ipython",
    "version": 3
   },
   "file_extension": ".py",
   "mimetype": "text/x-python",
   "name": "python",
   "nbconvert_exporter": "python",
   "pygments_lexer": "ipython3",
   "version": "3.10.2"
  },
  "orig_nbformat": 4
 },
 "nbformat": 4,
 "nbformat_minor": 2
}
