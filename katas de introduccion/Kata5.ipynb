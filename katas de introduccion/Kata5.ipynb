{
 "cells": [
  {
   "cell_type": "code",
   "execution_count": 18,
   "metadata": {},
   "outputs": [
    {
     "name": "stdout",
     "output_type": "stream",
     "text": [
      "628949330\n",
      "390577534\n"
     ]
    }
   ],
   "source": [
    "#Ejercicio 1\n",
    "\n",
    "Tierra = 149597870 \n",
    "Jupiter = 778547200 \n",
    "\n",
    "distancia = Tierra - Jupiter\n",
    "distanciamillas = distancia * 0.621\n",
    "\n",
    "print (abs(distancia))\n",
    "print (abs(round(distanciamillas)))\n"
   ]
  },
  {
   "cell_type": "code",
   "execution_count": 68,
   "metadata": {},
   "outputs": [],
   "source": [
    "#Ejericio 2\n",
    "\n",
    "#Código para leer la distancia del sol para dos planetas\n",
    "planeta1 = input (\"Introducir la distancia del sol\" )\n",
    "planeta2 = input (\"Introducir la distancia del sol\" )"
   ]
  },
  {
   "cell_type": "code",
   "execution_count": 69,
   "metadata": {},
   "outputs": [],
   "source": [
    "#Convertir a número la distancia \n",
    "planeta1 = int (planeta1)\n",
    "planeta2 = int (planeta2)"
   ]
  },
  {
   "cell_type": "code",
   "execution_count": 70,
   "metadata": {},
   "outputs": [
    {
     "name": "stdout",
     "output_type": "stream",
     "text": [
      "1\n",
      "0.621\n"
     ]
    }
   ],
   "source": [
    "#Realizar el calculo y convertir a valores absolutos \n",
    "# Realizar el cálculo y determinar el valor absoluto\n",
    "\n",
    "Resultado = planeta2 - planeta1\n",
    "print (Resultado)\n",
    "\n",
    "# Convertir de km a millas\n",
    "\n",
    "Resultadomillas = Resultado * 0.621\n",
    "print (abs(Resultadomillas))"
   ]
  }
 ],
 "metadata": {
  "interpreter": {
   "hash": "0a9f035985338bb4e896ed2ba7d25e23cb2847c8b107a7ccf07f6572f4e9fea7"
  },
  "kernelspec": {
   "display_name": "Python 3.10.2 64-bit",
   "language": "python",
   "name": "python3"
  },
  "language_info": {
   "codemirror_mode": {
    "name": "ipython",
    "version": 3
   },
   "file_extension": ".py",
   "mimetype": "text/x-python",
   "name": "python",
   "nbconvert_exporter": "python",
   "pygments_lexer": "ipython3",
   "version": "3.10.2"
  },
  "orig_nbformat": 4
 },
 "nbformat": 4,
 "nbformat_minor": 2
}
